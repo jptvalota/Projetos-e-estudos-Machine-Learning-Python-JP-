{
  "nbformat": 4,
  "nbformat_minor": 0,
  "metadata": {
    "colab": {
      "provenance": [],
      "authorship_tag": "ABX9TyODP0Xc4eApAD7reWMN6rf+",
      "include_colab_link": true
    },
    "kernelspec": {
      "name": "python3",
      "display_name": "Python 3"
    },
    "language_info": {
      "name": "python"
    }
  },
  "cells": [
    {
      "cell_type": "markdown",
      "metadata": {
        "id": "view-in-github",
        "colab_type": "text"
      },
      "source": [
        "<a href=\"https://colab.research.google.com/github/jptvalota/Projetos-e-estudos-Machine-Learning-Python-JP-/blob/master/Semana1ML.ipynb\" target=\"_parent\"><img src=\"https://colab.research.google.com/assets/colab-badge.svg\" alt=\"Open In Colab\"/></a>"
      ]
    },
    {
      "cell_type": "code",
      "execution_count": null,
      "metadata": {
        "id": "VYEseTSQlS9t"
      },
      "outputs": [],
      "source": [
        "# Números\n",
        "idade = 25\n",
        "altura = 1.75\n",
        "print(type(idade))\n",
        "print(type(altura))"
      ]
    },
    {
      "cell_type": "code",
      "source": [
        "#Texto\n",
        "nome = \"João\"\n",
        "print(type(nome))"
      ],
      "metadata": {
        "id": "_mQ2W70cmEFW"
      },
      "execution_count": null,
      "outputs": []
    },
    {
      "cell_type": "code",
      "source": [
        "# Booleanos\n",
        "ativo = True\n",
        "ativo = False\n",
        "print(type(ativo))"
      ],
      "metadata": {
        "id": "HQ5tw4-JmPB0"
      },
      "execution_count": null,
      "outputs": []
    },
    {
      "cell_type": "code",
      "source": [
        "#Lista\n",
        "numeros = [1, 2, 3]\n",
        "numeros.append(4)\n",
        "print(numeros)\n",
        "print(type(numeros))"
      ],
      "metadata": {
        "id": "oG_x3s0Om2FW"
      },
      "execution_count": null,
      "outputs": []
    },
    {
      "cell_type": "code",
      "source": [
        "# Tupla (não pode ser alterada)\n",
        "coordenadas = (10, 20)\n",
        "print(type(coordenadas))"
      ],
      "metadata": {
        "id": "4BQzB9VSnHHt"
      },
      "execution_count": null,
      "outputs": []
    },
    {
      "cell_type": "code",
      "source": [
        "# Dicionário\n",
        "aluno = {\"nome\": \"Ana\", \"nota\": 9.5}\n",
        "print(type(aluno))"
      ],
      "metadata": {
        "id": "HU917U89nUfL"
      },
      "execution_count": null,
      "outputs": []
    },
    {
      "cell_type": "code",
      "source": [
        "# Conjunto\n",
        "cores = {\"vermelho\", \"azul\",1}\n",
        "print(cores)"
      ],
      "metadata": {
        "id": "6N3rcCnEnmm7"
      },
      "execution_count": null,
      "outputs": []
    },
    {
      "cell_type": "code",
      "source": [
        "#Estruturas de repetição\n",
        "print(\"For:\")\n",
        "for i in range(5):\n",
        "    print(i)\n",
        "print(\"---------------------\\nWhile:\")\n",
        "contador = 0\n",
        "while contador < 3:\n",
        "    print(contador)\n",
        "    contador += 1"
      ],
      "metadata": {
        "id": "PL_iErogn7Fk"
      },
      "execution_count": null,
      "outputs": []
    },
    {
      "cell_type": "code",
      "source": [
        "#Condicionais\n",
        "nota = 8\n",
        "if nota >= 7:\n",
        "    print(\"Aprovado\")\n",
        "elif nota >= 5:\n",
        "    print(\"Recuperação\")\n",
        "else:\n",
        "    print(\"Reprovado\")"
      ],
      "metadata": {
        "id": "PNzp95vKof6V"
      },
      "execution_count": null,
      "outputs": []
    },
    {
      "cell_type": "code",
      "source": [
        "#Funções\n",
        "def soma(a, b):\n",
        "    return a + b\n",
        "\n",
        "print(soma(3, 4))"
      ],
      "metadata": {
        "id": "twgnaxdfol3z"
      },
      "execution_count": null,
      "outputs": []
    },
    {
      "cell_type": "code",
      "source": [
        "#Usando e importanto bibliotecas\n",
        "import math\n",
        "print(math.sqrt(16))"
      ],
      "metadata": {
        "colab": {
          "base_uri": "https://localhost:8080/"
        },
        "id": "WKJMiyoYo6Dj",
        "outputId": "d45267b2-9221-44a9-988e-9b147892f78a"
      },
      "execution_count": 20,
      "outputs": [
        {
          "output_type": "stream",
          "name": "stdout",
          "text": [
            "4.0\n"
          ]
        }
      ]
    },
    {
      "cell_type": "code",
      "source": [
        "#Arquivos CSV Pandas\n",
        "import pandas as pd\n",
        "\n",
        "# Criar CSV\n",
        "df = pd.DataFrame({\n",
        "    \"nome\": [\"Ana\", \"Bruno\", \"Carla\"],\n",
        "    \"idade\": [23, 35, 31]\n",
        "})\n",
        "df.to_csv(\"dados.csv\", index=False)\n",
        "\n",
        "# Ler CSV\n",
        "dados = pd.read_csv(\"dados.csv\")\n",
        "print(dados)\n",
        "print(\"Média de idades:\", dados[\"idade\"].mean())"
      ],
      "metadata": {
        "id": "Dm1Leau2pGx7"
      },
      "execution_count": null,
      "outputs": []
    },
    {
      "cell_type": "code",
      "source": [
        "#Projetinho de manipulação basica de dados\n",
        "\n",
        "import pandas as pd\n",
        "\n",
        "# Criar CSV fictício\n",
        "df = pd.DataFrame({\n",
        "    \"nome\": [\"João\", \"Maria\", \"Pedro\", \"Ana\"],\n",
        "    \"idade\": [25, 30, 22, 27]\n",
        "})\n",
        "df.to_csv(\"dados.csv\", index=False)\n",
        "\n",
        "# Leitura\n",
        "dados = pd.read_csv(\"dados.csv\")\n",
        "\n",
        "# Estatísticas\n",
        "media = dados[\"idade\"].mean()\n",
        "maximo = dados[\"idade\"].max()\n",
        "minimo = dados[\"idade\"].min()\n",
        "\n",
        "print(\"A média das idades é de: \", media, \" anos\")\n",
        "print(\"----------------------------\")\n",
        "print(\"A maior idade é: \",maximo, \" anos\")\n",
        "print(\"----------------------------\")\n",
        "print(\"A menor idade é: \",minimo, \" anos\")"
      ],
      "metadata": {
        "colab": {
          "base_uri": "https://localhost:8080/"
        },
        "id": "Y1fbrUdoqbNs",
        "outputId": "90224953-36b4-41e0-9d1a-5904867375da"
      },
      "execution_count": 25,
      "outputs": [
        {
          "output_type": "stream",
          "name": "stdout",
          "text": [
            "A média das idades é de:  26.0  anos\n",
            "----------------------------\n",
            "A maior idade é:  30  anos\n",
            "----------------------------\n",
            "A menor idade é:  22  anos\n"
          ]
        }
      ]
    }
  ]
}