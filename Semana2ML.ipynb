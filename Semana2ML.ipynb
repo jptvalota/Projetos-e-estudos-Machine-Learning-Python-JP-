{
  "nbformat": 4,
  "nbformat_minor": 0,
  "metadata": {
    "colab": {
      "provenance": [],
      "authorship_tag": "ABX9TyO7LvvzLwOUKBneJJrTKucB",
      "include_colab_link": true
    },
    "kernelspec": {
      "name": "python3",
      "display_name": "Python 3"
    },
    "language_info": {
      "name": "python"
    }
  },
  "cells": [
    {
      "cell_type": "markdown",
      "metadata": {
        "id": "view-in-github",
        "colab_type": "text"
      },
      "source": [
        "<a href=\"https://colab.research.google.com/github/jptvalota/Projetos-e-estudos-Machine-Learning-Python-JP-/blob/master/Semana2ML.ipynb\" target=\"_parent\"><img src=\"https://colab.research.google.com/assets/colab-badge.svg\" alt=\"Open In Colab\"/></a>"
      ]
    },
    {
      "cell_type": "code",
      "execution_count": null,
      "metadata": {
        "id": "lFVwSsm_t48L"
      },
      "outputs": [],
      "source": [
        "\"\"\"\n",
        "Álgebra Linear aplicada a Machine Learning — Teoria Essencial\n",
        "\n",
        "A Álgebra Linear é fundamental no Machine Learning porque:\n",
        "\n",
        "Features de um dataset podem ser representadas como vetores.\n",
        "\n",
        "Conjuntos de dados completos podem ser representados como matrizes.\n",
        "\n",
        "Operações como transformações, projeções e decomposições são feitas usando multiplicações e inversões de matrizes.\n",
        "\n",
        "Conceitos-chave:\n",
        "\n",
        "Vetor → Lista ordenada de números (ex:\n",
        "(2,3,4)\n",
        "\n",
        "Matriz → Conjunto de vetores organizados em linhas e colunas.\n",
        "\n",
        "Multiplicação de Matrizes → Combina informações (ex: pesos * entradas = previsões).\n",
        "\n",
        "Transposição → Troca linhas por colunas (Mᵀ).\n",
        "\n",
        "Inversão → \"Desfaz\" uma transformação (M⁻¹).\n",
        "\n",
        "Determinante → Indica se a matriz é invertível.\"\"\""
      ]
    },
    {
      "cell_type": "code",
      "source": [
        "#NumPy para Álgebra Linear\n",
        "\n",
        "#Criando vetores e matrizes\n",
        "import numpy as np\n",
        "# Vetor\n",
        "vetor = np.array([2, 3, 4])\n",
        "print(\"Vetor:\", vetor)\n",
        "\n",
        "# Matriz\n",
        "matriz = np.array([[1, 2], [3, 4]])\n",
        "print(\"Matriz:\\n\", matriz)\n"
      ],
      "metadata": {
        "id": "r77Wpbtl__pk"
      },
      "execution_count": null,
      "outputs": []
    },
    {
      "cell_type": "code",
      "source": [
        "#Operações básicas\n",
        "A = np.array([[1, 2], [3, 4]])\n",
        "B = np.array([[5, 6], [7, 8]])\n",
        "\n",
        "print(\"Soma:\\n\", A + B)\n",
        "print(\"Subtração:\\n\", A - B)\n",
        "print(\"Multiplicação elemento a elemento:\\n\", A * B)\n",
        "print(\"Divisão elemento a elemento:\\n\", A / B)"
      ],
      "metadata": {
        "id": "57pPgB-aAYzS"
      },
      "execution_count": null,
      "outputs": []
    },
    {
      "cell_type": "code",
      "source": [
        "# Multiplicação matricial (produto escalar)\n",
        "C = np.dot(A, B)\n",
        "print(\"Produto matricial:\\n\", C)\n",
        "\n",
        "# Alternativa com @\n",
        "C2 = A @ B\n",
        "print(\"Produto matricial com @:\\n\", C2)"
      ],
      "metadata": {
        "id": "4NVDuNxZAwlz"
      },
      "execution_count": null,
      "outputs": []
    },
    {
      "cell_type": "code",
      "source": [
        "# Transposição e inversão\n",
        "\n",
        "print(\"Transposta de A:\\n\", A.T)\n",
        "\n",
        "# Determinante\n",
        "det_A = np.linalg.det(A)\n",
        "print(\"Determinante de A:\", det_A)\n",
        "\n",
        "# Inversa (se existir)\n",
        "if det_A != 0:\n",
        "    inv_A = np.linalg.inv(A)\n",
        "    print(\"Inversa de A:\\n\", inv_A)\n",
        "else:\n",
        "    print(\"Matriz não é invertível\")"
      ],
      "metadata": {
        "id": "Bh3pfMKKBEdL"
      },
      "execution_count": null,
      "outputs": []
    },
    {
      "cell_type": "code",
      "source": [
        "# Normna(magnitude) do vetor\n",
        "\n",
        "v = np.array([8, 6])\n",
        "print(\"Norma (magnitude) do vetor:\", np.linalg.norm(v))"
      ],
      "metadata": {
        "id": "-80X3lhPBjiI"
      },
      "execution_count": null,
      "outputs": []
    },
    {
      "cell_type": "code",
      "source": [
        "#Produto escalar\n",
        "\n",
        "v1 = np.array([1, 2, 3])\n",
        "v2 = np.array([4, 5, 6])\n",
        "produto = np.dot(v1, v2)\n",
        "print(\"Produto escalar:\", produto)"
      ],
      "metadata": {
        "id": "tXi8_BsnCXJK"
      },
      "execution_count": null,
      "outputs": []
    },
    {
      "cell_type": "markdown",
      "source": [
        "Pandas para análise de dados"
      ],
      "metadata": {
        "id": "Ci23CIcrCoW4"
      }
    },
    {
      "cell_type": "code",
      "source": [
        "#Criando DataFrames\n",
        "import pandas as pd\n",
        "\n",
        "dados = {\n",
        "    \"Nome\": [\"Ana\", \"Bruno\", \"Carla\", \"Daniel\"],\n",
        "    \"Idade\": [23, 35, 29, 40],\n",
        "    \"Salario\": [3000, 5000, 4000, 6000]\n",
        "}\n",
        "\n",
        "df = pd.DataFrame(dados)\n",
        "print(df)"
      ],
      "metadata": {
        "id": "t1q8Qb6XCvbw"
      },
      "execution_count": null,
      "outputs": []
    },
    {
      "cell_type": "code",
      "source": [
        "#Leitura CSV\n",
        "df.to_csv(\"dados.csv\", index=False)\n",
        "df_lido = pd.read_csv(\"dados.csv\")\n",
        "print(df_lido)"
      ],
      "metadata": {
        "id": "1CTitz79C5xB"
      },
      "execution_count": null,
      "outputs": []
    },
    {
      "cell_type": "code",
      "source": [
        "#Estatísticas rápidas\n",
        "\n",
        "print(df.describe())  #Estatísticas gerais\n",
        "print(\"Média salarial:\", df[\"Salario\"].mean())\n",
        "print(\"Maior idade:\", df[\"Idade\"].max())"
      ],
      "metadata": {
        "id": "FmT626EpDEWR"
      },
      "execution_count": null,
      "outputs": []
    },
    {
      "cell_type": "code",
      "source": [
        "#Filtragem\n",
        "print(df[df[\"Salario\"] > 4000])"
      ],
      "metadata": {
        "id": "eSju3BJtDYx5"
      },
      "execution_count": null,
      "outputs": []
    },
    {
      "cell_type": "markdown",
      "source": [
        "Mini analisador de dataset(projeto da semana)"
      ],
      "metadata": {
        "id": "1eXh4UEgDlyI"
      }
    },
    {
      "cell_type": "code",
      "source": [
        "import pandas as pd\n",
        "import matplotlib.pyplot as plt\n",
        "import seaborn as sns\n",
        "\n",
        "# Criar dataset fictício\n",
        "df = pd.DataFrame({\n",
        "    \"Nome\": [\"Ana\", \"Bruno\", \"Carla\", \"Daniel\", \"Eduardo\"],\n",
        "    \"Idade\": [23, 35, 29, 40, 31],\n",
        "    \"Salario\": [3000, 5000, 4000, 6000, 4500]\n",
        "})\n",
        "df.to_csv(\"dados.csv\", index=False)\n",
        "\n",
        "# Ler dataset\n",
        "dados = pd.read_csv(\"dados.csv\")\n",
        "\n",
        "# Estatísticas\n",
        "print(\"Estatísticas gerais:\\n\", dados.describe())\n",
        "\n",
        "# Gráfico de barras - Salário por pessoa\n",
        "plt.figure(figsize=(8,5))\n",
        "sns.barplot(x=\"Nome\", y=\"Salario\", data=dados)\n",
        "plt.title(\"Salário por Pessoa\")\n",
        "plt.show()\n",
        "\n",
        "# Histograma de idades\n",
        "plt.figure(figsize=(8,5))\n",
        "sns.histplot(dados[\"Idade\"], bins=5, kde=True)\n",
        "plt.title(\"Distribuição das Idades\")\n",
        "plt.show()"
      ],
      "metadata": {
        "id": "f2T4xlLtDvwo"
      },
      "execution_count": null,
      "outputs": []
    }
  ]
}